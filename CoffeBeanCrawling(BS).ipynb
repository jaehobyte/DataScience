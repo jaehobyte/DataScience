{
 "cells": [
  {
   "cell_type": "code",
   "execution_count": 1,
   "id": "dfaf56ea",
   "metadata": {},
   "outputs": [],
   "source": [
    "import pandas as pd\n",
    "from selenium import webdriver\n",
    "from bs4 import BeautifulSoup\n",
    "import time\n",
    "import warnings\n",
    "\n",
    "warnings.filterwarnings(action='ignore')"
   ]
  },
  {
   "cell_type": "code",
   "execution_count": null,
   "id": "2d5d3ab4",
   "metadata": {},
   "outputs": [],
   "source": [
    "for i in range(1,378):\n",
    "    try:\n",
    "        CoffeeBean_URL = \"https://www.coffeebeankorea.com/store/store.asp\"\n",
    "        wd = webdriver.Chrome('chromedriver.exe')\n",
    "\n",
    "        wd.get(CoffeeBean_URL)\n",
    "        time.sleep(1)\n",
    "\n",
    "        wd.execute_script('storePop2(i)')\n",
    "        time.sleep(1)\n",
    "\n",
    "        html = wd.page_source\n",
    "        soup = BeautifulSoup(html, 'html.parser')\n",
    "        \n",
    "        store_name_h2 = soup.select('div.store_txt>h2')\n",
    "        store_name = store_name_h2[0].string      \n",
    "        store_info = soup.select('table.store_table>tbody>tr>td')\n",
    "        store_tel = store_info[3].string\n",
    "\n",
    "        store_address = store_info[2]\n",
    "        store_add = list(store_address)\n",
    "        store_add_c = store_add[0].strip()\n",
    "\n",
    "    except:\n",
    "        print(i)\n",
    "\n",
    "df_cb = pd.DataFrame({'매장이름':store_name,'address':store_add_c,'phone':store_tel},index=[0])\n",
    "df_cb"
   ]
  },
  {
   "cell_type": "code",
   "execution_count": null,
   "id": "15e0be5c",
   "metadata": {},
   "outputs": [],
   "source": []
  }
 ],
 "metadata": {
  "kernelspec": {
   "display_name": "Python 3 (ipykernel)",
   "language": "python",
   "name": "python3"
  },
  "language_info": {
   "codemirror_mode": {
    "name": "ipython",
    "version": 3
   },
   "file_extension": ".py",
   "mimetype": "text/x-python",
   "name": "python",
   "nbconvert_exporter": "python",
   "pygments_lexer": "ipython3",
   "version": "3.9.7"
  }
 },
 "nbformat": 4,
 "nbformat_minor": 5
}

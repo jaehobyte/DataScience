{
 "cells": [
  {
   "cell_type": "code",
   "execution_count": 1,
   "id": "c72d2e50",
   "metadata": {},
   "outputs": [],
   "source": [
    "import pandas as pd\n",
    "from selenium import webdriver\n",
    "import time\n",
    "import warnings\n",
    "\n",
    "warnings.filterwarnings(action='ignore')"
   ]
  },
  {
   "cell_type": "code",
   "execution_count": 2,
   "id": "f92e8636",
   "metadata": {},
   "outputs": [],
   "source": [
    "CoffeeBean_URL = \"https://www.coffeebeankorea.com/store/store.asp\"\n",
    "wd = webdriver.Chrome('chromedriver.exe')\n",
    "\n",
    "wd.get(CoffeeBean_URL)\n",
    "time.sleep(1)"
   ]
  },
  {
   "cell_type": "code",
   "execution_count": 3,
   "id": "98bf8ca5",
   "metadata": {},
   "outputs": [],
   "source": [
    "wd.execute_script('storePop2(1)')\n",
    "time.sleep(1)"
   ]
  },
  {
   "cell_type": "code",
   "execution_count": 4,
   "id": "ebf0178b",
   "metadata": {},
   "outputs": [],
   "source": [
    "html = wd.page_source"
   ]
  },
  {
   "cell_type": "code",
   "execution_count": 7,
   "id": "3f9e5217",
   "metadata": {},
   "outputs": [],
   "source": [
    "from bs4 import BeautifulSoup"
   ]
  },
  {
   "cell_type": "code",
   "execution_count": 8,
   "id": "560f51e2",
   "metadata": {},
   "outputs": [],
   "source": [
    "html = wd.page_source"
   ]
  },
  {
   "cell_type": "code",
   "execution_count": 9,
   "id": "9791366f",
   "metadata": {},
   "outputs": [],
   "source": [
    "soup = BeautifulSoup(html, 'html.parser')"
   ]
  },
  {
   "cell_type": "code",
   "execution_count": 10,
   "id": "410a732a",
   "metadata": {},
   "outputs": [
    {
     "data": {
      "text/plain": [
       "[<h2>학동역 DT점</h2>]"
      ]
     },
     "execution_count": 10,
     "metadata": {},
     "output_type": "execute_result"
    }
   ],
   "source": [
    "store_name_h2 = soup.select('div.store_txt>h2')\n",
    "store_name_h2"
   ]
  },
  {
   "cell_type": "code",
   "execution_count": 13,
   "id": "75bb1cea",
   "metadata": {},
   "outputs": [],
   "source": [
    "store_name = store_name_h2[0].string"
   ]
  },
  {
   "cell_type": "code",
   "execution_count": 14,
   "id": "5edec9c7",
   "metadata": {},
   "outputs": [
    {
     "data": {
      "text/plain": [
       "'학동역 DT점'"
      ]
     },
     "execution_count": 14,
     "metadata": {},
     "output_type": "execute_result"
    }
   ],
   "source": [
    "store_name"
   ]
  },
  {
   "cell_type": "code",
   "execution_count": 15,
   "id": "e44b6e97",
   "metadata": {},
   "outputs": [
    {
     "data": {
      "text/plain": [
       "[<td>평일 06:30~22:00ㅣ주말/공휴일 07:30~22:00</td>,\n",
       " <td>DT(드라이브 스루) 매장입니다. (주차는 불가)</td>,\n",
       " <td>서울시 강남구 학동로 211 1층  <!--span class=\"lot\">(서울시 강남구 학동로 211 1층)</span--></td>,\n",
       " <td>02-3444-9973</td>]"
      ]
     },
     "execution_count": 15,
     "metadata": {},
     "output_type": "execute_result"
    }
   ],
   "source": [
    "store_info = soup.select('table.store_table>tbody>tr>td')\n",
    "store_info"
   ]
  },
  {
   "cell_type": "code",
   "execution_count": 16,
   "id": "beccb3b6",
   "metadata": {},
   "outputs": [
    {
     "data": {
      "text/plain": [
       "'02-3444-9973'"
      ]
     },
     "execution_count": 16,
     "metadata": {},
     "output_type": "execute_result"
    }
   ],
   "source": [
    "store_tel = store_info[3].string\n",
    "store_tel"
   ]
  },
  {
   "cell_type": "code",
   "execution_count": 19,
   "id": "fe0c1de8",
   "metadata": {},
   "outputs": [
    {
     "data": {
      "text/plain": [
       "'서울시 강남구 학동로 211 1층'"
      ]
     },
     "execution_count": 19,
     "metadata": {},
     "output_type": "execute_result"
    }
   ],
   "source": [
    "store_address = store_info[2]\n",
    "store_add = list(store_address)\n",
    "store_add_c = store_add[0].strip()\n",
    "store_add_c"
   ]
  },
  {
   "cell_type": "code",
   "execution_count": 20,
   "id": "a40e8d52",
   "metadata": {},
   "outputs": [
    {
     "data": {
      "text/html": [
       "<div>\n",
       "<style scoped>\n",
       "    .dataframe tbody tr th:only-of-type {\n",
       "        vertical-align: middle;\n",
       "    }\n",
       "\n",
       "    .dataframe tbody tr th {\n",
       "        vertical-align: top;\n",
       "    }\n",
       "\n",
       "    .dataframe thead th {\n",
       "        text-align: right;\n",
       "    }\n",
       "</style>\n",
       "<table border=\"1\" class=\"dataframe\">\n",
       "  <thead>\n",
       "    <tr style=\"text-align: right;\">\n",
       "      <th></th>\n",
       "      <th>매장이름</th>\n",
       "      <th>address</th>\n",
       "      <th>phone</th>\n",
       "    </tr>\n",
       "  </thead>\n",
       "  <tbody>\n",
       "    <tr>\n",
       "      <th>0</th>\n",
       "      <td>학동역 DT점</td>\n",
       "      <td>서울시 강남구 학동로 211 1층</td>\n",
       "      <td>02-3444-9973</td>\n",
       "    </tr>\n",
       "  </tbody>\n",
       "</table>\n",
       "</div>"
      ],
      "text/plain": [
       "      매장이름             address         phone\n",
       "0  학동역 DT점  서울시 강남구 학동로 211 1층  02-3444-9973"
      ]
     },
     "execution_count": 20,
     "metadata": {},
     "output_type": "execute_result"
    }
   ],
   "source": [
    "df_cb = pd.DataFrame({'매장이름':store_name,'address':store_add_c,'phone':store_tel},index=[0])\n",
    "df_cb"
   ]
  },
  {
   "cell_type": "code",
   "execution_count": null,
   "id": "2447a169",
   "metadata": {},
   "outputs": [],
   "source": []
  }
 ],
 "metadata": {
  "kernelspec": {
   "display_name": "Python 3 (ipykernel)",
   "language": "python",
   "name": "python3"
  },
  "language_info": {
   "codemirror_mode": {
    "name": "ipython",
    "version": 3
   },
   "file_extension": ".py",
   "mimetype": "text/x-python",
   "name": "python",
   "nbconvert_exporter": "python",
   "pygments_lexer": "ipython3",
   "version": "3.9.7"
  }
 },
 "nbformat": 4,
 "nbformat_minor": 5
}

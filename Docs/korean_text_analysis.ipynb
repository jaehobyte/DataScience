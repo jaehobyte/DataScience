{
 "cells": [
  {
   "cell_type": "markdown",
   "id": "59405406",
   "metadata": {},
   "source": [
    "**형태소 분리**<br>\n",
    "*   형태소: 의미를 가진 최소의 단위 (minimally meaningful unit)\n",
    "*   단어(또는 어절)를 구성하는 각 형태소 분리"
   ]
  },
  {
   "cell_type": "markdown",
   "id": "df5c9c5a",
   "metadata": {},
   "source": [
    "**KoNLPy(한국어 자연어 처리 파이썬 패키지) 설치**\n",
    "1.   Java JDK (https://www.oracle.com/java/technologies/downloads/#jdk17-windows) 설치\n",
    "2.   JAVA_HOME 설정: 시스템 환경 변수 편집 : 환경 변수 > 시스템 변수 > 새로 만들기\n",
    "  *  변수 이름: JAVA_HOME\n",
    "  *  변수 값: C:\\Program Files\\Java\\jdk-17.0.3\n",
    "3. JPype1 설치: \n",
    "  *  https://www.lfd.uci.edu/~gohlke/pythonlibs/#jpype 자신의 파이썬 버전에 맞게 다운로드 그리고 파일을 작업 환경에 이동\n",
    "  *  pip install JPype1...\n",
    "4. pip install konlpy"
   ]
  },
  {
   "cell_type": "code",
   "execution_count": null,
   "id": "06d4033c",
   "metadata": {},
   "outputs": [],
   "source": [
    "import json\n",
    "import re\n",
    "from konlpy.tag import Okt\n",
    "from collections import Counter\n",
    "import matplotlib\n",
    "import matplotlib.pyplot as plt\n",
    "from matplotlib import font_manager, rc\n",
    "from wordcloud import WordCloud"
   ]
  },
  {
   "cell_type": "code",
   "execution_count": null,
   "id": "e003103d",
   "metadata": {},
   "outputs": [],
   "source": [
    "dataOpen = open('./dataset/korean_text.json', encoding='utf-8').read()\n",
    "data = json.loads(dataOpen)"
   ]
  },
  {
   "cell_type": "code",
   "execution_count": null,
   "id": "704efc22",
   "metadata": {},
   "outputs": [],
   "source": [
    "data"
   ]
  },
  {
   "cell_type": "code",
   "execution_count": null,
   "id": "5722f5b3",
   "metadata": {},
   "outputs": [],
   "source": [
    "message = ''\n",
    "for n in data:\n",
    "    if 'message' in n.keys():\n",
    "        message = message + re.sub('[^\\w]', ' ', n['message'])+' '"
   ]
  },
  {
   "cell_type": "code",
   "execution_count": null,
   "id": "81c1544a",
   "metadata": {
    "scrolled": true
   },
   "outputs": [],
   "source": [
    "message"
   ]
  },
  {
   "cell_type": "code",
   "execution_count": null,
   "id": "a1e73967",
   "metadata": {},
   "outputs": [],
   "source": [
    "nlp = Okt()\n",
    "messageNouns = nlp.nouns(message)\n",
    "messageNouns "
   ]
  },
  {
   "cell_type": "code",
   "execution_count": null,
   "id": "58004d07",
   "metadata": {},
   "outputs": [],
   "source": [
    "count = Counter(messageNouns)\n",
    "count"
   ]
  },
  {
   "cell_type": "code",
   "execution_count": null,
   "id": "4c84e4f2",
   "metadata": {},
   "outputs": [],
   "source": [
    "#sorted(count.items(), key=lambda x: x[1], reverse=True)"
   ]
  },
  {
   "cell_type": "code",
   "execution_count": null,
   "id": "e9403c60",
   "metadata": {},
   "outputs": [],
   "source": [
    "wordCount = dict()\n",
    "for tag, counts in count.most_common(50):\n",
    "    #print(tag, counts)\n",
    "    #print(type(tag))\n",
    "    if(len(tag)>1):\n",
    "        wordCount[tag] = counts\n",
    "        print('%s: %d' %(tag, counts))"
   ]
  },
  {
   "cell_type": "code",
   "execution_count": null,
   "id": "629737cd",
   "metadata": {},
   "outputs": [],
   "source": [
    "font_path = 'c:/Windows/fonts/gulim.ttc'\n",
    "font_name = font_manager.FontProperties(fname = font_path).get_name()\n",
    "matplotlib.rc('font', family = font_name)"
   ]
  },
  {
   "cell_type": "code",
   "execution_count": null,
   "id": "401cbc8a",
   "metadata": {},
   "outputs": [],
   "source": [
    "plt.figure(figsize = (12, 5))\n",
    "plt.xlabel('키워드')\n",
    "plt.ylabel('빈도수')\n",
    "plt.grid(True)\n",
    "sorted_keys = sorted(wordCount, key=count.get, reverse=True)\n",
    "print(sorted_keys)\n",
    "sorted_values = sorted(wordCount.values(), reverse=True)\n",
    "print(sorted_values)\n",
    "plt.bar(range(len(wordCount)), sorted_values, align = 'center')\n",
    "plt.xticks(range(len(wordCount)), list(sorted_keys), rotation = '75')"
   ]
  },
  {
   "cell_type": "code",
   "execution_count": null,
   "id": "c6016e84",
   "metadata": {},
   "outputs": [],
   "source": [
    "wc = WordCloud(font_path, background_color = 'ivory', width = 800, height=600)\n",
    "cloud = wc.generate_from_frequencies(wordCount)\n",
    "plt.figure(figsize = (8, 8))\n",
    "plt.imshow(cloud)\n",
    "plt.axis('off')\n",
    "plt.show()"
   ]
  }
 ],
 "metadata": {
  "kernelspec": {
   "display_name": "Python 3 (ipykernel)",
   "language": "python",
   "name": "python3"
  },
  "language_info": {
   "codemirror_mode": {
    "name": "ipython",
    "version": 3
   },
   "file_extension": ".py",
   "mimetype": "text/x-python",
   "name": "python",
   "nbconvert_exporter": "python",
   "pygments_lexer": "ipython3",
   "version": "3.7.13"
  }
 },
 "nbformat": 4,
 "nbformat_minor": 5
}

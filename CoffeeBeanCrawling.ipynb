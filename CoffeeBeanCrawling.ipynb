{
 "cells": [
  {
   "cell_type": "code",
   "execution_count": 19,
   "id": "95d3fefb",
   "metadata": {},
   "outputs": [],
   "source": [
    "import pandas as pd\n",
    "from selenium import webdriver\n",
    "import time\n",
    "import warnings\n",
    "\n",
    "warnings.filterwarnings(action='ignore')"
   ]
  },
  {
   "cell_type": "code",
   "execution_count": 20,
   "id": "59c43d36",
   "metadata": {},
   "outputs": [],
   "source": [
    "CoffeeBean_URL = \"https://www.coffeebeankorea.com/store/store.asp\"\n",
    "wd = webdriver.Chrome('chromedriver.exe')\n",
    "\n",
    "wd.get(CoffeeBean_URL)\n",
    "time.sleep(1)"
   ]
  },
  {
   "cell_type": "code",
   "execution_count": 21,
   "id": "7661c532",
   "metadata": {},
   "outputs": [],
   "source": [
    "wd.execute_script('storePop2(1)')\n",
    "time.sleep(1)"
   ]
  },
  {
   "cell_type": "code",
   "execution_count": 22,
   "id": "8dfc8759",
   "metadata": {},
   "outputs": [
    {
     "data": {
      "text/plain": [
       "'학동역 DT점'"
      ]
     },
     "execution_count": 22,
     "metadata": {},
     "output_type": "execute_result"
    }
   ],
   "source": [
    "cb_name = wd.find_element_by_css_selector('div.store_txt>h2')\n",
    "store_name = cb_name.text\n",
    "store_name"
   ]
  },
  {
   "cell_type": "code",
   "execution_count": 24,
   "id": "a3698b4a",
   "metadata": {},
   "outputs": [
    {
     "data": {
      "text/plain": [
       "'영업시간 평일 06:30~22:00ㅣ주말/공휴일 07:30~22:00\\n주차 DT(드라이브 스루) 매장입니다. (주차는 불가)\\n주소 서울시 강남구 학동로 211 1층\\n전화번호 02-3444-9973'"
      ]
     },
     "execution_count": 24,
     "metadata": {},
     "output_type": "execute_result"
    }
   ],
   "source": [
    "cb_info = wd.find_element_by_css_selector('table.store_table>tbody')\n",
    "cbContents = cb_info.text\n",
    "cbContents"
   ]
  },
  {
   "cell_type": "code",
   "execution_count": 25,
   "id": "c12a704d",
   "metadata": {},
   "outputs": [
    {
     "data": {
      "text/plain": [
       "70"
      ]
     },
     "execution_count": 25,
     "metadata": {},
     "output_type": "execute_result"
    }
   ],
   "source": [
    "n0 = cbContents.find('주소')\n",
    "n0"
   ]
  },
  {
   "cell_type": "code",
   "execution_count": 26,
   "id": "b46803f1",
   "metadata": {},
   "outputs": [
    {
     "data": {
      "text/plain": [
       "92"
      ]
     },
     "execution_count": 26,
     "metadata": {},
     "output_type": "execute_result"
    }
   ],
   "source": [
    "n1 = cbContents.find('전화번호')\n",
    "n1"
   ]
  },
  {
   "cell_type": "code",
   "execution_count": 27,
   "id": "4af4cbf4",
   "metadata": {},
   "outputs": [],
   "source": [
    "store_add = cbContents[n0+3:n1-1]"
   ]
  },
  {
   "cell_type": "code",
   "execution_count": 28,
   "id": "2f99c2a7",
   "metadata": {},
   "outputs": [],
   "source": [
    "store_tel = cbContents[n1+5:]"
   ]
  },
  {
   "cell_type": "code",
   "execution_count": 29,
   "id": "14de0b68",
   "metadata": {},
   "outputs": [
    {
     "data": {
      "text/html": [
       "<div>\n",
       "<style scoped>\n",
       "    .dataframe tbody tr th:only-of-type {\n",
       "        vertical-align: middle;\n",
       "    }\n",
       "\n",
       "    .dataframe tbody tr th {\n",
       "        vertical-align: top;\n",
       "    }\n",
       "\n",
       "    .dataframe thead th {\n",
       "        text-align: right;\n",
       "    }\n",
       "</style>\n",
       "<table border=\"1\" class=\"dataframe\">\n",
       "  <thead>\n",
       "    <tr style=\"text-align: right;\">\n",
       "      <th></th>\n",
       "      <th>매장이름</th>\n",
       "      <th>address</th>\n",
       "      <th>phone</th>\n",
       "    </tr>\n",
       "  </thead>\n",
       "  <tbody>\n",
       "    <tr>\n",
       "      <th>0</th>\n",
       "      <td>학동역 DT점</td>\n",
       "      <td>서울시 강남구 학동로 211 1층</td>\n",
       "      <td>02-3444-9973</td>\n",
       "    </tr>\n",
       "  </tbody>\n",
       "</table>\n",
       "</div>"
      ],
      "text/plain": [
       "      매장이름             address         phone\n",
       "0  학동역 DT점  서울시 강남구 학동로 211 1층  02-3444-9973"
      ]
     },
     "execution_count": 29,
     "metadata": {},
     "output_type": "execute_result"
    }
   ],
   "source": [
    "df_cb = pd.DataFrame({'매장이름':store_name,'address':store_add,'phone':store_tel}, index=[0])\n",
    "df_cb"
   ]
  },
  {
   "cell_type": "code",
   "execution_count": null,
   "id": "24411854",
   "metadata": {},
   "outputs": [],
   "source": []
  }
 ],
 "metadata": {
  "kernelspec": {
   "display_name": "Python 3 (ipykernel)",
   "language": "python",
   "name": "python3"
  },
  "language_info": {
   "codemirror_mode": {
    "name": "ipython",
    "version": 3
   },
   "file_extension": ".py",
   "mimetype": "text/x-python",
   "name": "python",
   "nbconvert_exporter": "python",
   "pygments_lexer": "ipython3",
   "version": "3.9.7"
  }
 },
 "nbformat": 4,
 "nbformat_minor": 5
}

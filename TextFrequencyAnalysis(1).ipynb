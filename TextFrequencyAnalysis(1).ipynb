{
 "cells": [
  {
   "cell_type": "code",
   "execution_count": 1,
   "id": "a9a8eb1d",
   "metadata": {},
   "outputs": [],
   "source": [
    "import re"
   ]
  },
  {
   "cell_type": "code",
   "execution_count": 32,
   "id": "59893ce9",
   "metadata": {},
   "outputs": [
    {
     "data": {
      "text/plain": [
       "'\\n### **정규 표현식(Regular Expression; Regex)**\\n*    **특정한 규칙을 가진 문자열의 집합을 표현하는 데 사용하는 형식 언어**\\n*   자연어 데이터 정제를 위해 사용\\n*   정규 표현식에서 사용하는 메타 문자(meta characters)에는 다음과 같은 것이 있다.<br> ※ 메타 문자란 원래 그 문자가 가진 뜻이 아닌 특별한 용도로 사용하는 문자를 말한다. <br>\\n\\n<b>메타문자: . ^ $ * + ? { } [ ] \\\\ | ( )\\n*   **[  ]** : **문자 클래스**([ ])\\n*    &#45; : 하이픈(-)을 사용하면 두 문자 사이의 범위(From - To)를 의미\\n*    &#43; : 1번 이상 반복<br>\\n※   문자 클래스([ ]) 안에는 어떤 문자나 메타 문자도 사용할수 있지만 주의해야 할 메타 문자가 1가지 있다. 그것은 바로 ^인데, **문자 클래스([ ]) 안에 ^ 메타 문자를 사용할 경우에는 반대(not)라는 의미**를 갖는다.\\n'"
      ]
     },
     "execution_count": 32,
     "metadata": {},
     "output_type": "execute_result"
    }
   ],
   "source": [
    "'''\n",
    "### **정규 표현식(Regular Expression; Regex)**\n",
    "*    **특정한 규칙을 가진 문자열의 집합을 표현하는 데 사용하는 형식 언어**\n",
    "*   자연어 데이터 정제를 위해 사용\n",
    "*   정규 표현식에서 사용하는 메타 문자(meta characters)에는 다음과 같은 것이 있다.<br> ※ 메타 문자란 원래 그 문자가 가진 뜻이 아닌 특별한 용도로 사용하는 문자를 말한다. <br>\n",
    "\n",
    "<b>메타문자: . ^ $ * + ? { } [ ] \\ | ( )\n",
    "*   **[  ]** : **문자 클래스**([ ])\n",
    "*    &#45; : 하이픈(-)을 사용하면 두 문자 사이의 범위(From - To)를 의미\n",
    "*    &#43; : 1번 이상 반복<br>\n",
    "※   문자 클래스([ ]) 안에는 어떤 문자나 메타 문자도 사용할수 있지만 주의해야 할 메타 문자가 1가지 있다. 그것은 바로 ^인데, **문자 클래스([ ]) 안에 ^ 메타 문자를 사용할 경우에는 반대(not)라는 의미**를 갖는다.\n",
    "'''"
   ]
  },
  {
   "cell_type": "code",
   "execution_count": 31,
   "id": "52c3b84f",
   "metadata": {},
   "outputs": [
    {
     "data": {
      "text/plain": [
       "'\\n*  [abck] : a or b or c or k\\n*  [a-d] : -와 함께 사용되면 해당 문자 사이의 범위에 속하는 문자 중 하나\\n*  [0-9] : 모든 숫자\\n*  [a-z] : 모든 소문자\\n*  [A-Z] : 모든 대문자\\n*  [a-zA-Z0-9] : 모든 알파벳 문자 및 숫자\\n*  [^0-9] : ^가 맨 앞에 사용 되는 경우 해당 문자 패턴이 아닌 것과 매칭\\n'"
      ]
     },
     "execution_count": 31,
     "metadata": {},
     "output_type": "execute_result"
    }
   ],
   "source": [
    "'''\n",
    "*  [abck] : a or b or c or k\n",
    "*  [a-d] : -와 함께 사용되면 해당 문자 사이의 범위에 속하는 문자 중 하나\n",
    "*  [0-9] : 모든 숫자\n",
    "*  [a-z] : 모든 소문자\n",
    "*  [A-Z] : 모든 대문자\n",
    "*  [a-zA-Z0-9] : 모든 알파벳 문자 및 숫자\n",
    "*  [^0-9] : ^가 맨 앞에 사용 되는 경우 해당 문자 패턴이 아닌 것과 매칭\n",
    "'''"
   ]
  },
  {
   "cell_type": "code",
   "execution_count": null,
   "id": "0d295c84",
   "metadata": {},
   "outputs": [],
   "source": []
  },
  {
   "cell_type": "code",
   "execution_count": 2,
   "id": "41945b71",
   "metadata": {},
   "outputs": [
    {
     "data": {
      "text/plain": [
       "'I like an apple'"
      ]
     },
     "execution_count": 2,
     "metadata": {},
     "output_type": "execute_result"
    }
   ],
   "source": [
    "text = 'I like an   $$ %% / apple'\n",
    "text_mod = re.sub('[^a-zA-Z]+', ' ', text)\n",
    "text_mod"
   ]
  },
  {
   "cell_type": "code",
   "execution_count": 3,
   "id": "13b3daa5",
   "metadata": {},
   "outputs": [
    {
     "data": {
      "text/plain": [
       "'***-****-****'"
      ]
     },
     "execution_count": 3,
     "metadata": {},
     "output_type": "execute_result"
    }
   ],
   "source": [
    "tel = '010-1234-5678'\n",
    "tel_mod = re.sub('^[0-9]{3}-[0-9]{4}-[0-9]{4}','***-****-****',tel)\n",
    "tel_mod"
   ]
  },
  {
   "cell_type": "code",
   "execution_count": 4,
   "id": "90687415",
   "metadata": {},
   "outputs": [],
   "source": [
    "import nltk"
   ]
  },
  {
   "cell_type": "code",
   "execution_count": 6,
   "id": "63a45a79",
   "metadata": {},
   "outputs": [
    {
     "name": "stderr",
     "output_type": "stream",
     "text": [
      "[nltk_data] Downloading package punkt to\n",
      "[nltk_data]     C:\\Users\\YSM\\AppData\\Roaming\\nltk_data...\n",
      "[nltk_data]   Package punkt is already up-to-date!\n",
      "[nltk_data] Downloading package stopwords to\n",
      "[nltk_data]     C:\\Users\\YSM\\AppData\\Roaming\\nltk_data...\n",
      "[nltk_data]   Package stopwords is already up-to-date!\n",
      "[nltk_data] Downloading package wordnet to\n",
      "[nltk_data]     C:\\Users\\YSM\\AppData\\Roaming\\nltk_data...\n",
      "[nltk_data]   Package wordnet is already up-to-date!\n",
      "[nltk_data] Downloading package omw-1.4 to\n",
      "[nltk_data]     C:\\Users\\YSM\\AppData\\Roaming\\nltk_data...\n",
      "[nltk_data]   Unzipping corpora\\omw-1.4.zip.\n"
     ]
    },
    {
     "data": {
      "text/plain": [
       "True"
      ]
     },
     "execution_count": 6,
     "metadata": {},
     "output_type": "execute_result"
    }
   ],
   "source": [
    "nltk.download('punkt')\n",
    "nltk.download('stopwords')\n",
    "nltk.download('wordnet')\n",
    "nltk.download('omw-1.4')"
   ]
  },
  {
   "cell_type": "code",
   "execution_count": 8,
   "id": "ac3e2ebd",
   "metadata": {},
   "outputs": [
    {
     "data": {
      "text/plain": [
       "'I will make my deep learning systems'"
      ]
     },
     "execution_count": 8,
     "metadata": {},
     "output_type": "execute_result"
    }
   ],
   "source": [
    "reWords = re.sub('[^a-zA-Z]+', ' ', 'I will make my    deep learning systems')\n",
    "reWords"
   ]
  },
  {
   "cell_type": "code",
   "execution_count": 13,
   "id": "4326334a",
   "metadata": {},
   "outputs": [],
   "source": [
    "from nltk.tokenize import word_tokenize"
   ]
  },
  {
   "cell_type": "code",
   "execution_count": 15,
   "id": "16e3f301",
   "metadata": {},
   "outputs": [
    {
     "data": {
      "text/plain": [
       "['i', 'will', 'make', 'my', 'deep', 'learning', 'systems']"
      ]
     },
     "execution_count": 15,
     "metadata": {},
     "output_type": "execute_result"
    }
   ],
   "source": [
    "lreWords = reWords.lower()\n",
    "reWordsToken = word_tokenize(lreWords)\n",
    "reWordsToken"
   ]
  },
  {
   "cell_type": "code",
   "execution_count": 16,
   "id": "af1d7b84",
   "metadata": {},
   "outputs": [],
   "source": [
    "from nltk.corpus import stopwords"
   ]
  },
  {
   "cell_type": "code",
   "execution_count": 17,
   "id": "550c0cb4",
   "metadata": {},
   "outputs": [],
   "source": [
    "sWords = stopwords.words('English')"
   ]
  },
  {
   "cell_type": "code",
   "execution_count": 21,
   "id": "f7d1bec9",
   "metadata": {},
   "outputs": [
    {
     "data": {
      "text/plain": [
       "['make', 'deep', 'learning', 'systems']"
      ]
     },
     "execution_count": 21,
     "metadata": {},
     "output_type": "execute_result"
    }
   ],
   "source": [
    "reWordsTokenStop = [n for n in reWordsToken if n not in sWords]\n",
    "reWordsTokenStop"
   ]
  },
  {
   "cell_type": "code",
   "execution_count": 22,
   "id": "8ee4fc30",
   "metadata": {},
   "outputs": [],
   "source": [
    "from nltk.stem.wordnet import WordNetLemmatizer"
   ]
  },
  {
   "cell_type": "code",
   "execution_count": 23,
   "id": "13150efb",
   "metadata": {},
   "outputs": [],
   "source": [
    "lemma = WordNetLemmatizer()"
   ]
  },
  {
   "cell_type": "code",
   "execution_count": 24,
   "id": "e6311acd",
   "metadata": {},
   "outputs": [
    {
     "data": {
      "text/plain": [
       "['make', 'deep', 'learning', 'system']"
      ]
     },
     "execution_count": 24,
     "metadata": {},
     "output_type": "execute_result"
    }
   ],
   "source": [
    "reWordsTokenStopLemma = [lemma.lemmatize(w) for w in reWordsTokenStop]\n",
    "reWordsTokenStopLemma"
   ]
  },
  {
   "cell_type": "code",
   "execution_count": 25,
   "id": "48c4b680",
   "metadata": {},
   "outputs": [
    {
     "data": {
      "text/plain": [
       "[10, 20]"
      ]
     },
     "execution_count": 25,
     "metadata": {},
     "output_type": "execute_result"
    }
   ],
   "source": [
    "# 람다 함수 예시\n",
    "f = lambda x,y : x+y\n",
    "f([10], [20])"
   ]
  },
  {
   "cell_type": "code",
   "execution_count": 28,
   "id": "1ca92b35",
   "metadata": {},
   "outputs": [],
   "source": [
    "from functools import reduce\n",
    "words = reduce(lambda x,y : x+y, [['hi'],['hello', 'computer'],['learning']])"
   ]
  },
  {
   "cell_type": "code",
   "execution_count": 29,
   "id": "4a4cf58e",
   "metadata": {},
   "outputs": [
    {
     "data": {
      "text/plain": [
       "Counter({'hi': 1, 'hello': 1, 'computer': 1, 'learning': 1})"
      ]
     },
     "execution_count": 29,
     "metadata": {},
     "output_type": "execute_result"
    }
   ],
   "source": [
    "from collections import Counter\n",
    "Counter(words)"
   ]
  },
  {
   "cell_type": "code",
   "execution_count": null,
   "id": "603c1104",
   "metadata": {},
   "outputs": [],
   "source": []
  }
 ],
 "metadata": {
  "kernelspec": {
   "display_name": "Python 3 (ipykernel)",
   "language": "python",
   "name": "python3"
  },
  "language_info": {
   "codemirror_mode": {
    "name": "ipython",
    "version": 3
   },
   "file_extension": ".py",
   "mimetype": "text/x-python",
   "name": "python",
   "nbconvert_exporter": "python",
   "pygments_lexer": "ipython3",
   "version": "3.9.7"
  }
 },
 "nbformat": 4,
 "nbformat_minor": 5
}
